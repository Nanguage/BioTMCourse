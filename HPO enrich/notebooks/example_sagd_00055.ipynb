{
 "cells": [
  {
   "cell_type": "markdown",
   "metadata": {},
   "source": [
    "# HPO Gene Set Enrichment Analyze Example\n",
    "\n",
    "This is an example of using my toolkit to do the [HPO](https://hpo.jax.org/) GSEA.\n",
    "\n",
    "About the toolkit installation, see the [GitHub repo](https://github.com/Nanguage/BioTMCourse/tree/master/HPO%20enrich).\n",
    "\n",
    "### Data: input gene list\n",
    "\n",
    "In this example, we use the sex-associated genes as input example, it's download from the [SAGD database](http://bioinfo.life.hust.edu.cn/SAGD#!/download).\n",
    "Data group [SAGD_00055](http://bioinfo.life.hust.edu.cn/static/SAGD/download/Homo_sapiens/SAGD_00055.csv)(human hypothalamus tissue) is selected as input."
   ]
  },
  {
   "cell_type": "code",
   "execution_count": 1,
   "metadata": {},
   "outputs": [
    {
     "data": {
      "text/html": [
       "\n",
       "    <div class=\"bk-root\">\n",
       "        <a href=\"https://bokeh.pydata.org\" target=\"_blank\" class=\"bk-logo bk-logo-small bk-logo-notebook\"></a>\n",
       "        <span id=\"fdd9dca2-02a2-4498-856f-00343dd9111c\">Loading BokehJS ...</span>\n",
       "    </div>"
      ]
     },
     "metadata": {},
     "output_type": "display_data"
    },
    {
     "data": {
      "application/javascript": [
       "\n",
       "(function(root) {\n",
       "  function now() {\n",
       "    return new Date();\n",
       "  }\n",
       "\n",
       "  var force = true;\n",
       "\n",
       "  if (typeof (root._bokeh_onload_callbacks) === \"undefined\" || force === true) {\n",
       "    root._bokeh_onload_callbacks = [];\n",
       "    root._bokeh_is_loading = undefined;\n",
       "  }\n",
       "\n",
       "  var JS_MIME_TYPE = 'application/javascript';\n",
       "  var HTML_MIME_TYPE = 'text/html';\n",
       "  var EXEC_MIME_TYPE = 'application/vnd.bokehjs_exec.v0+json';\n",
       "  var CLASS_NAME = 'output_bokeh rendered_html';\n",
       "\n",
       "  /**\n",
       "   * Render data to the DOM node\n",
       "   */\n",
       "  function render(props, node) {\n",
       "    var script = document.createElement(\"script\");\n",
       "    node.appendChild(script);\n",
       "  }\n",
       "\n",
       "  /**\n",
       "   * Handle when an output is cleared or removed\n",
       "   */\n",
       "  function handleClearOutput(event, handle) {\n",
       "    var cell = handle.cell;\n",
       "\n",
       "    var id = cell.output_area._bokeh_element_id;\n",
       "    var server_id = cell.output_area._bokeh_server_id;\n",
       "    // Clean up Bokeh references\n",
       "    if (id !== undefined) {\n",
       "      Bokeh.index[id].model.document.clear();\n",
       "      delete Bokeh.index[id];\n",
       "    }\n",
       "\n",
       "    if (server_id !== undefined) {\n",
       "      // Clean up Bokeh references\n",
       "      var cmd = \"from bokeh.io.state import curstate; print(curstate().uuid_to_server['\" + server_id + \"'].get_sessions()[0].document.roots[0]._id)\";\n",
       "      cell.notebook.kernel.execute(cmd, {\n",
       "        iopub: {\n",
       "          output: function(msg) {\n",
       "            var element_id = msg.content.text.trim();\n",
       "            Bokeh.index[element_id].model.document.clear();\n",
       "            delete Bokeh.index[element_id];\n",
       "          }\n",
       "        }\n",
       "      });\n",
       "      // Destroy server and session\n",
       "      var cmd = \"import bokeh.io.notebook as ion; ion.destroy_server('\" + server_id + \"')\";\n",
       "      cell.notebook.kernel.execute(cmd);\n",
       "    }\n",
       "  }\n",
       "\n",
       "  /**\n",
       "   * Handle when a new output is added\n",
       "   */\n",
       "  function handleAddOutput(event, handle) {\n",
       "    var output_area = handle.output_area;\n",
       "    var output = handle.output;\n",
       "\n",
       "    // limit handleAddOutput to display_data with EXEC_MIME_TYPE content only\n",
       "    if ((output.output_type != \"display_data\") || (!output.data.hasOwnProperty(EXEC_MIME_TYPE))) {\n",
       "      return\n",
       "    }\n",
       "\n",
       "    var toinsert = output_area.element.find(\".\" + CLASS_NAME.split(' ')[0]);\n",
       "\n",
       "    if (output.metadata[EXEC_MIME_TYPE][\"id\"] !== undefined) {\n",
       "      toinsert[0].firstChild.textContent = output.data[JS_MIME_TYPE];\n",
       "      // store reference to embed id on output_area\n",
       "      output_area._bokeh_element_id = output.metadata[EXEC_MIME_TYPE][\"id\"];\n",
       "    }\n",
       "    if (output.metadata[EXEC_MIME_TYPE][\"server_id\"] !== undefined) {\n",
       "      var bk_div = document.createElement(\"div\");\n",
       "      bk_div.innerHTML = output.data[HTML_MIME_TYPE];\n",
       "      var script_attrs = bk_div.children[0].attributes;\n",
       "      for (var i = 0; i < script_attrs.length; i++) {\n",
       "        toinsert[0].firstChild.setAttribute(script_attrs[i].name, script_attrs[i].value);\n",
       "      }\n",
       "      // store reference to server id on output_area\n",
       "      output_area._bokeh_server_id = output.metadata[EXEC_MIME_TYPE][\"server_id\"];\n",
       "    }\n",
       "  }\n",
       "\n",
       "  function register_renderer(events, OutputArea) {\n",
       "\n",
       "    function append_mime(data, metadata, element) {\n",
       "      // create a DOM node to render to\n",
       "      var toinsert = this.create_output_subarea(\n",
       "        metadata,\n",
       "        CLASS_NAME,\n",
       "        EXEC_MIME_TYPE\n",
       "      );\n",
       "      this.keyboard_manager.register_events(toinsert);\n",
       "      // Render to node\n",
       "      var props = {data: data, metadata: metadata[EXEC_MIME_TYPE]};\n",
       "      render(props, toinsert[0]);\n",
       "      element.append(toinsert);\n",
       "      return toinsert\n",
       "    }\n",
       "\n",
       "    /* Handle when an output is cleared or removed */\n",
       "    events.on('clear_output.CodeCell', handleClearOutput);\n",
       "    events.on('delete.Cell', handleClearOutput);\n",
       "\n",
       "    /* Handle when a new output is added */\n",
       "    events.on('output_added.OutputArea', handleAddOutput);\n",
       "\n",
       "    /**\n",
       "     * Register the mime type and append_mime function with output_area\n",
       "     */\n",
       "    OutputArea.prototype.register_mime_type(EXEC_MIME_TYPE, append_mime, {\n",
       "      /* Is output safe? */\n",
       "      safe: true,\n",
       "      /* Index of renderer in `output_area.display_order` */\n",
       "      index: 0\n",
       "    });\n",
       "  }\n",
       "\n",
       "  // register the mime type if in Jupyter Notebook environment and previously unregistered\n",
       "  if (root.Jupyter !== undefined) {\n",
       "    var events = require('base/js/events');\n",
       "    var OutputArea = require('notebook/js/outputarea').OutputArea;\n",
       "\n",
       "    if (OutputArea.prototype.mime_types().indexOf(EXEC_MIME_TYPE) == -1) {\n",
       "      register_renderer(events, OutputArea);\n",
       "    }\n",
       "  }\n",
       "\n",
       "  \n",
       "  if (typeof (root._bokeh_timeout) === \"undefined\" || force === true) {\n",
       "    root._bokeh_timeout = Date.now() + 5000;\n",
       "    root._bokeh_failed_load = false;\n",
       "  }\n",
       "\n",
       "  var NB_LOAD_WARNING = {'data': {'text/html':\n",
       "     \"<div style='background-color: #fdd'>\\n\"+\n",
       "     \"<p>\\n\"+\n",
       "     \"BokehJS does not appear to have successfully loaded. If loading BokehJS from CDN, this \\n\"+\n",
       "     \"may be due to a slow or bad network connection. Possible fixes:\\n\"+\n",
       "     \"</p>\\n\"+\n",
       "     \"<ul>\\n\"+\n",
       "     \"<li>re-rerun `output_notebook()` to attempt to load from CDN again, or</li>\\n\"+\n",
       "     \"<li>use INLINE resources instead, as so:</li>\\n\"+\n",
       "     \"</ul>\\n\"+\n",
       "     \"<code>\\n\"+\n",
       "     \"from bokeh.resources import INLINE\\n\"+\n",
       "     \"output_notebook(resources=INLINE)\\n\"+\n",
       "     \"</code>\\n\"+\n",
       "     \"</div>\"}};\n",
       "\n",
       "  function display_loaded() {\n",
       "    var el = document.getElementById(\"fdd9dca2-02a2-4498-856f-00343dd9111c\");\n",
       "    if (el != null) {\n",
       "      el.textContent = \"BokehJS is loading...\";\n",
       "    }\n",
       "    if (root.Bokeh !== undefined) {\n",
       "      if (el != null) {\n",
       "        el.textContent = \"BokehJS \" + root.Bokeh.version + \" successfully loaded.\";\n",
       "      }\n",
       "    } else if (Date.now() < root._bokeh_timeout) {\n",
       "      setTimeout(display_loaded, 100)\n",
       "    }\n",
       "  }\n",
       "\n",
       "\n",
       "  function run_callbacks() {\n",
       "    try {\n",
       "      root._bokeh_onload_callbacks.forEach(function(callback) { callback() });\n",
       "    }\n",
       "    finally {\n",
       "      delete root._bokeh_onload_callbacks\n",
       "    }\n",
       "    console.info(\"Bokeh: all callbacks have finished\");\n",
       "  }\n",
       "\n",
       "  function load_libs(js_urls, callback) {\n",
       "    root._bokeh_onload_callbacks.push(callback);\n",
       "    if (root._bokeh_is_loading > 0) {\n",
       "      console.log(\"Bokeh: BokehJS is being loaded, scheduling callback at\", now());\n",
       "      return null;\n",
       "    }\n",
       "    if (js_urls == null || js_urls.length === 0) {\n",
       "      run_callbacks();\n",
       "      return null;\n",
       "    }\n",
       "    console.log(\"Bokeh: BokehJS not loaded, scheduling load and callback at\", now());\n",
       "    root._bokeh_is_loading = js_urls.length;\n",
       "    for (var i = 0; i < js_urls.length; i++) {\n",
       "      var url = js_urls[i];\n",
       "      var s = document.createElement('script');\n",
       "      s.src = url;\n",
       "      s.async = false;\n",
       "      s.onreadystatechange = s.onload = function() {\n",
       "        root._bokeh_is_loading--;\n",
       "        if (root._bokeh_is_loading === 0) {\n",
       "          console.log(\"Bokeh: all BokehJS libraries loaded\");\n",
       "          run_callbacks()\n",
       "        }\n",
       "      };\n",
       "      s.onerror = function() {\n",
       "        console.warn(\"failed to load library \" + url);\n",
       "      };\n",
       "      console.log(\"Bokeh: injecting script tag for BokehJS library: \", url);\n",
       "      document.getElementsByTagName(\"head\")[0].appendChild(s);\n",
       "    }\n",
       "  };var element = document.getElementById(\"fdd9dca2-02a2-4498-856f-00343dd9111c\");\n",
       "  if (element == null) {\n",
       "    console.log(\"Bokeh: ERROR: autoload.js configured with elementid 'fdd9dca2-02a2-4498-856f-00343dd9111c' but no matching script tag was found. \")\n",
       "    return false;\n",
       "  }\n",
       "\n",
       "  var js_urls = [\"https://cdn.pydata.org/bokeh/release/bokeh-0.12.14.min.js\", \"https://cdn.pydata.org/bokeh/release/bokeh-widgets-0.12.14.min.js\", \"https://cdn.pydata.org/bokeh/release/bokeh-tables-0.12.14.min.js\", \"https://cdn.pydata.org/bokeh/release/bokeh-gl-0.12.14.min.js\"];\n",
       "\n",
       "  var inline_js = [\n",
       "    function(Bokeh) {\n",
       "      Bokeh.set_log_level(\"info\");\n",
       "    },\n",
       "    \n",
       "    function(Bokeh) {\n",
       "      \n",
       "    },\n",
       "    function(Bokeh) {\n",
       "      console.log(\"Bokeh: injecting CSS: https://cdn.pydata.org/bokeh/release/bokeh-0.12.14.min.css\");\n",
       "      Bokeh.embed.inject_css(\"https://cdn.pydata.org/bokeh/release/bokeh-0.12.14.min.css\");\n",
       "      console.log(\"Bokeh: injecting CSS: https://cdn.pydata.org/bokeh/release/bokeh-widgets-0.12.14.min.css\");\n",
       "      Bokeh.embed.inject_css(\"https://cdn.pydata.org/bokeh/release/bokeh-widgets-0.12.14.min.css\");\n",
       "      console.log(\"Bokeh: injecting CSS: https://cdn.pydata.org/bokeh/release/bokeh-tables-0.12.14.min.css\");\n",
       "      Bokeh.embed.inject_css(\"https://cdn.pydata.org/bokeh/release/bokeh-tables-0.12.14.min.css\");\n",
       "    }\n",
       "  ];\n",
       "\n",
       "  function run_inline_js() {\n",
       "    \n",
       "    if ((root.Bokeh !== undefined) || (force === true)) {\n",
       "      for (var i = 0; i < inline_js.length; i++) {\n",
       "        inline_js[i].call(root, root.Bokeh);\n",
       "      }if (force === true) {\n",
       "        display_loaded();\n",
       "      }} else if (Date.now() < root._bokeh_timeout) {\n",
       "      setTimeout(run_inline_js, 100);\n",
       "    } else if (!root._bokeh_failed_load) {\n",
       "      console.log(\"Bokeh: BokehJS failed to load within specified timeout.\");\n",
       "      root._bokeh_failed_load = true;\n",
       "    } else if (force !== true) {\n",
       "      var cell = $(document.getElementById(\"fdd9dca2-02a2-4498-856f-00343dd9111c\")).parents('.cell').data().cell;\n",
       "      cell.output_area.append_execute_result(NB_LOAD_WARNING)\n",
       "    }\n",
       "\n",
       "  }\n",
       "\n",
       "  if (root._bokeh_is_loading === 0) {\n",
       "    console.log(\"Bokeh: BokehJS loaded, going straight to plotting\");\n",
       "    run_inline_js();\n",
       "  } else {\n",
       "    load_libs(js_urls, function() {\n",
       "      console.log(\"Bokeh: BokehJS plotting callback run at\", now());\n",
       "      run_inline_js();\n",
       "    });\n",
       "  }\n",
       "}(window));"
      ],
      "application/vnd.bokehjs_load.v0+json": "\n(function(root) {\n  function now() {\n    return new Date();\n  }\n\n  var force = true;\n\n  if (typeof (root._bokeh_onload_callbacks) === \"undefined\" || force === true) {\n    root._bokeh_onload_callbacks = [];\n    root._bokeh_is_loading = undefined;\n  }\n\n  \n\n  \n  if (typeof (root._bokeh_timeout) === \"undefined\" || force === true) {\n    root._bokeh_timeout = Date.now() + 5000;\n    root._bokeh_failed_load = false;\n  }\n\n  var NB_LOAD_WARNING = {'data': {'text/html':\n     \"<div style='background-color: #fdd'>\\n\"+\n     \"<p>\\n\"+\n     \"BokehJS does not appear to have successfully loaded. If loading BokehJS from CDN, this \\n\"+\n     \"may be due to a slow or bad network connection. Possible fixes:\\n\"+\n     \"</p>\\n\"+\n     \"<ul>\\n\"+\n     \"<li>re-rerun `output_notebook()` to attempt to load from CDN again, or</li>\\n\"+\n     \"<li>use INLINE resources instead, as so:</li>\\n\"+\n     \"</ul>\\n\"+\n     \"<code>\\n\"+\n     \"from bokeh.resources import INLINE\\n\"+\n     \"output_notebook(resources=INLINE)\\n\"+\n     \"</code>\\n\"+\n     \"</div>\"}};\n\n  function display_loaded() {\n    var el = document.getElementById(\"fdd9dca2-02a2-4498-856f-00343dd9111c\");\n    if (el != null) {\n      el.textContent = \"BokehJS is loading...\";\n    }\n    if (root.Bokeh !== undefined) {\n      if (el != null) {\n        el.textContent = \"BokehJS \" + root.Bokeh.version + \" successfully loaded.\";\n      }\n    } else if (Date.now() < root._bokeh_timeout) {\n      setTimeout(display_loaded, 100)\n    }\n  }\n\n\n  function run_callbacks() {\n    try {\n      root._bokeh_onload_callbacks.forEach(function(callback) { callback() });\n    }\n    finally {\n      delete root._bokeh_onload_callbacks\n    }\n    console.info(\"Bokeh: all callbacks have finished\");\n  }\n\n  function load_libs(js_urls, callback) {\n    root._bokeh_onload_callbacks.push(callback);\n    if (root._bokeh_is_loading > 0) {\n      console.log(\"Bokeh: BokehJS is being loaded, scheduling callback at\", now());\n      return null;\n    }\n    if (js_urls == null || js_urls.length === 0) {\n      run_callbacks();\n      return null;\n    }\n    console.log(\"Bokeh: BokehJS not loaded, scheduling load and callback at\", now());\n    root._bokeh_is_loading = js_urls.length;\n    for (var i = 0; i < js_urls.length; i++) {\n      var url = js_urls[i];\n      var s = document.createElement('script');\n      s.src = url;\n      s.async = false;\n      s.onreadystatechange = s.onload = function() {\n        root._bokeh_is_loading--;\n        if (root._bokeh_is_loading === 0) {\n          console.log(\"Bokeh: all BokehJS libraries loaded\");\n          run_callbacks()\n        }\n      };\n      s.onerror = function() {\n        console.warn(\"failed to load library \" + url);\n      };\n      console.log(\"Bokeh: injecting script tag for BokehJS library: \", url);\n      document.getElementsByTagName(\"head\")[0].appendChild(s);\n    }\n  };var element = document.getElementById(\"fdd9dca2-02a2-4498-856f-00343dd9111c\");\n  if (element == null) {\n    console.log(\"Bokeh: ERROR: autoload.js configured with elementid 'fdd9dca2-02a2-4498-856f-00343dd9111c' but no matching script tag was found. \")\n    return false;\n  }\n\n  var js_urls = [\"https://cdn.pydata.org/bokeh/release/bokeh-0.12.14.min.js\", \"https://cdn.pydata.org/bokeh/release/bokeh-widgets-0.12.14.min.js\", \"https://cdn.pydata.org/bokeh/release/bokeh-tables-0.12.14.min.js\", \"https://cdn.pydata.org/bokeh/release/bokeh-gl-0.12.14.min.js\"];\n\n  var inline_js = [\n    function(Bokeh) {\n      Bokeh.set_log_level(\"info\");\n    },\n    \n    function(Bokeh) {\n      \n    },\n    function(Bokeh) {\n      console.log(\"Bokeh: injecting CSS: https://cdn.pydata.org/bokeh/release/bokeh-0.12.14.min.css\");\n      Bokeh.embed.inject_css(\"https://cdn.pydata.org/bokeh/release/bokeh-0.12.14.min.css\");\n      console.log(\"Bokeh: injecting CSS: https://cdn.pydata.org/bokeh/release/bokeh-widgets-0.12.14.min.css\");\n      Bokeh.embed.inject_css(\"https://cdn.pydata.org/bokeh/release/bokeh-widgets-0.12.14.min.css\");\n      console.log(\"Bokeh: injecting CSS: https://cdn.pydata.org/bokeh/release/bokeh-tables-0.12.14.min.css\");\n      Bokeh.embed.inject_css(\"https://cdn.pydata.org/bokeh/release/bokeh-tables-0.12.14.min.css\");\n    }\n  ];\n\n  function run_inline_js() {\n    \n    if ((root.Bokeh !== undefined) || (force === true)) {\n      for (var i = 0; i < inline_js.length; i++) {\n        inline_js[i].call(root, root.Bokeh);\n      }if (force === true) {\n        display_loaded();\n      }} else if (Date.now() < root._bokeh_timeout) {\n      setTimeout(run_inline_js, 100);\n    } else if (!root._bokeh_failed_load) {\n      console.log(\"Bokeh: BokehJS failed to load within specified timeout.\");\n      root._bokeh_failed_load = true;\n    } else if (force !== true) {\n      var cell = $(document.getElementById(\"fdd9dca2-02a2-4498-856f-00343dd9111c\")).parents('.cell').data().cell;\n      cell.output_area.append_execute_result(NB_LOAD_WARNING)\n    }\n\n  }\n\n  if (root._bokeh_is_loading === 0) {\n    console.log(\"Bokeh: BokehJS loaded, going straight to plotting\");\n    run_inline_js();\n  } else {\n    load_libs(js_urls, function() {\n      console.log(\"Bokeh: BokehJS plotting callback run at\", now());\n      run_inline_js();\n    });\n  }\n}(window));"
     },
     "metadata": {},
     "output_type": "display_data"
    }
   ],
   "source": [
    "# load required modules\n",
    "\n",
    "import pandas as pd\n",
    "import matplotlib.pyplot as plt\n",
    "from bokeh.plotting import show\n",
    "from bokeh.io import output_notebook\n",
    "output_notebook()\n",
    "\n",
    "from hpoea.enrich import GSEA\n",
    "from hpoea.plot import LineagePlot, dot_plot"
   ]
  },
  {
   "cell_type": "markdown",
   "metadata": {},
   "source": [
    "## Data loading and preprocessing"
   ]
  },
  {
   "cell_type": "markdown",
   "metadata": {},
   "source": [
    "Read input differential gene experission result table."
   ]
  },
  {
   "cell_type": "code",
   "execution_count": 2,
   "metadata": {},
   "outputs": [],
   "source": [
    "input_csv = \"../data/SAGD_00055.csv\"\n",
    "exp = pd.read_csv(input_csv)\n",
    "exp.columns = [\"ensembl_id\"] + list(exp.columns)[1:]"
   ]
  },
  {
   "cell_type": "code",
   "execution_count": 3,
   "metadata": {
    "scrolled": false
   },
   "outputs": [
    {
     "data": {
      "text/html": [
       "<div>\n",
       "<style scoped>\n",
       "    .dataframe tbody tr th:only-of-type {\n",
       "        vertical-align: middle;\n",
       "    }\n",
       "\n",
       "    .dataframe tbody tr th {\n",
       "        vertical-align: top;\n",
       "    }\n",
       "\n",
       "    .dataframe thead th {\n",
       "        text-align: right;\n",
       "    }\n",
       "</style>\n",
       "<table border=\"1\" class=\"dataframe\">\n",
       "  <thead>\n",
       "    <tr style=\"text-align: right;\">\n",
       "      <th></th>\n",
       "      <th>ensembl_id</th>\n",
       "      <th>baseMean</th>\n",
       "      <th>log2FoldChange</th>\n",
       "      <th>lfcSE</th>\n",
       "      <th>stat</th>\n",
       "      <th>pvalue</th>\n",
       "      <th>padj</th>\n",
       "      <th>FPKM_M</th>\n",
       "      <th>FPKM_F</th>\n",
       "    </tr>\n",
       "  </thead>\n",
       "  <tbody>\n",
       "    <tr>\n",
       "      <th>0</th>\n",
       "      <td>ENSG00000012817</td>\n",
       "      <td>850.482453</td>\n",
       "      <td>8.188046</td>\n",
       "      <td>0.218044</td>\n",
       "      <td>37.552216</td>\n",
       "      <td>0.0</td>\n",
       "      <td>0.0</td>\n",
       "      <td>6.015774</td>\n",
       "      <td>0.020867</td>\n",
       "    </tr>\n",
       "    <tr>\n",
       "      <th>1</th>\n",
       "      <td>ENSG00000067048</td>\n",
       "      <td>908.726851</td>\n",
       "      <td>8.637194</td>\n",
       "      <td>0.215148</td>\n",
       "      <td>40.145376</td>\n",
       "      <td>0.0</td>\n",
       "      <td>0.0</td>\n",
       "      <td>10.234487</td>\n",
       "      <td>0.026688</td>\n",
       "    </tr>\n",
       "    <tr>\n",
       "      <th>2</th>\n",
       "      <td>ENSG00000129824</td>\n",
       "      <td>1493.628628</td>\n",
       "      <td>8.147712</td>\n",
       "      <td>0.208643</td>\n",
       "      <td>39.050981</td>\n",
       "      <td>0.0</td>\n",
       "      <td>0.0</td>\n",
       "      <td>39.948216</td>\n",
       "      <td>0.155030</td>\n",
       "    </tr>\n",
       "  </tbody>\n",
       "</table>\n",
       "</div>"
      ],
      "text/plain": [
       "        ensembl_id     baseMean  log2FoldChange     lfcSE       stat  pvalue  \\\n",
       "0  ENSG00000012817   850.482453        8.188046  0.218044  37.552216     0.0   \n",
       "1  ENSG00000067048   908.726851        8.637194  0.215148  40.145376     0.0   \n",
       "2  ENSG00000129824  1493.628628        8.147712  0.208643  39.050981     0.0   \n",
       "\n",
       "   padj     FPKM_M    FPKM_F  \n",
       "0   0.0   6.015774  0.020867  \n",
       "1   0.0  10.234487  0.026688  \n",
       "2   0.0  39.948216  0.155030  "
      ]
     },
     "execution_count": 3,
     "metadata": {},
     "output_type": "execute_result"
    }
   ],
   "source": [
    "exp.head(3)"
   ]
  },
  {
   "cell_type": "markdown",
   "metadata": {},
   "source": [
    "Select the significant differential expressed genes with condition: padj <= 0.05"
   ]
  },
  {
   "cell_type": "code",
   "execution_count": 4,
   "metadata": {},
   "outputs": [
    {
     "data": {
      "text/plain": [
       "54"
      ]
     },
     "execution_count": 4,
     "metadata": {},
     "output_type": "execute_result"
    }
   ],
   "source": [
    "sig = exp[exp.padj <= 0.05]\n",
    "test_genes = list(sig.ensembl_id)\n",
    "len(test_genes)"
   ]
  },
  {
   "cell_type": "markdown",
   "metadata": {},
   "source": [
    "Total 54 genes was selected, here is the gene list:"
   ]
  },
  {
   "cell_type": "code",
   "execution_count": 5,
   "metadata": {},
   "outputs": [
    {
     "name": "stdout",
     "output_type": "stream",
     "text": [
      "ENSG00000012817 ENSG00000067048 ENSG00000129824 ENSG00000114374 ENSG00000131002\n",
      "ENSG00000198692 ENSG00000165246 ENSG00000183878 ENSG00000229807 ENSG00000233864\n",
      "ENSG00000099725 ENSG00000067646 ENSG00000099715 ENSG00000176728 ENSG00000154620\n",
      "ENSG00000260197 ENSG00000206159 ENSG00000241859 ENSG00000278847 ENSG00000273906\n",
      "ENSG00000227289 ENSG00000228764 ENSG00000232226 ENSG00000229236 ENSG00000169953\n",
      "ENSG00000225117 ENSG00000270641 ENSG00000092377 ENSG00000267793 ENSG00000232348\n",
      "ENSG00000224060 ENSG00000229163 ENSG00000215580 ENSG00000002586 ENSG00000231535\n",
      "ENSG00000227494 ENSG00000133048 ENSG00000258484 ENSG00000184895 ENSG00000233070\n",
      "ENSG00000228787 ENSG00000005889 ENSG00000214717 ENSG00000135245 ENSG00000064886\n",
      "ENSG00000215301 ENSG00000229238 ENSG00000147050 ENSG00000198535 ENSG00000130600\n",
      "ENSG00000217896 ENSG00000126012 ENSG00000261600 ENSG00000169248\n"
     ]
    }
   ],
   "source": [
    "for i in range(len(test_genes)//5 + 1):\n",
    "    print(\" \".join(test_genes[i*5:(i+1)*5]))"
   ]
  },
  {
   "cell_type": "markdown",
   "metadata": {},
   "source": [
    "As we can see, the gene name is in Ensembl format, but HPO require Entrez format.\n",
    "We convert them firstly."
   ]
  },
  {
   "cell_type": "code",
   "execution_count": 6,
   "metadata": {},
   "outputs": [
    {
     "name": "stderr",
     "output_type": "stream",
     "text": [
      "hpoea.utils.idconvert INFO    @ 03/28/19 16:53:48: Perform gene ID conversion: from ensembl id to entrez id.\n"
     ]
    },
    {
     "name": "stdout",
     "output_type": "stream",
     "text": [
      "querying 1-54...done.\n"
     ]
    },
    {
     "name": "stderr",
     "output_type": "stream",
     "text": [
      "hpoea.utils.idconvert WARNING @ 03/28/19 16:53:49: 18 gene conversion failed, failed genes:\n",
      "hpoea.utils.idconvert WARNING @ 03/28/19 16:53:49: ENSG00000176728,ENSG00000260197,ENSG00000206159,ENSG00000241859,ENSG00000278847,ENSG00000273906,ENSG00000227289,ENSG00000228764,ENSG00000232226,ENSG00000225117,ENSG00000267793,ENSG00000232348,ENSG00000224060,ENSG00000229163,ENSG00000227494,ENSG00000229238,ENSG00000217896,ENSG00000261600\n"
     ]
    },
    {
     "name": "stdout",
     "output_type": "stream",
     "text": [
      "Finished.\n"
     ]
    }
   ],
   "source": [
    "from hpoea.utils.idconvert import EntrezEnsemblConvert\n",
    "cvt = EntrezEnsemblConvert()\n",
    "test_entrez = cvt.ensembl2entrez(test_genes)"
   ]
  },
  {
   "cell_type": "markdown",
   "metadata": {},
   "source": [
    "Unfortunatlly, 18 genes was lost during the conversion process. "
   ]
  },
  {
   "cell_type": "markdown",
   "metadata": {},
   "source": [
    "## GSEA"
   ]
  },
  {
   "cell_type": "code",
   "execution_count": 7,
   "metadata": {
    "scrolled": true
   },
   "outputs": [
    {
     "name": "stderr",
     "output_type": "stream",
     "text": [
      "hpoea.enrich         INFO    @ 03/28/19 16:53:50: Perform gene set enrichment analyze.\n",
      "hpoea.enrich         INFO    @ 03/28/19 16:53:50: input genes: 36\tpossible terms: 315\n",
      "100%|██████████| 315/315 [00:07<00:00, 41.52it/s]\n",
      "hpoea.enrich         INFO    @ 03/28/19 16:53:57: Done\n",
      "hpoea.enrich         INFO    @ 03/28/19 16:53:57: Multiple test correction with fdr_bh method.\n",
      "hpoea.enrich         INFO    @ 03/28/19 16:53:57: Done\n"
     ]
    }
   ],
   "source": [
    "gsea = GSEA()\n",
    "gsea.enrich(test_entrez)\n",
    "gsea.multiple_test_corretion(method='fdr_bh')"
   ]
  },
  {
   "cell_type": "code",
   "execution_count": 8,
   "metadata": {},
   "outputs": [
    {
     "data": {
      "text/html": [
       "<div>\n",
       "<style scoped>\n",
       "    .dataframe tbody tr th:only-of-type {\n",
       "        vertical-align: middle;\n",
       "    }\n",
       "\n",
       "    .dataframe tbody tr th {\n",
       "        vertical-align: top;\n",
       "    }\n",
       "\n",
       "    .dataframe thead th {\n",
       "        text-align: right;\n",
       "    }\n",
       "</style>\n",
       "<table border=\"1\" class=\"dataframe\">\n",
       "  <thead>\n",
       "    <tr style=\"text-align: right;\">\n",
       "      <th></th>\n",
       "      <th>HPO_term_ID</th>\n",
       "      <th>HPO_term_name</th>\n",
       "      <th>gene_num</th>\n",
       "      <th>study_count</th>\n",
       "      <th>n_study</th>\n",
       "      <th>population_count</th>\n",
       "      <th>n_population</th>\n",
       "      <th>gene_ratio</th>\n",
       "      <th>background_ratio</th>\n",
       "      <th>odd_ratio</th>\n",
       "      <th>pvalue</th>\n",
       "      <th>padj</th>\n",
       "      <th>related_genes</th>\n",
       "    </tr>\n",
       "  </thead>\n",
       "  <tbody>\n",
       "    <tr>\n",
       "      <th>55</th>\n",
       "      <td>HP:0001450</td>\n",
       "      <td>Y-linked inheritance</td>\n",
       "      <td>17</td>\n",
       "      <td>4</td>\n",
       "      <td>390</td>\n",
       "      <td>17</td>\n",
       "      <td>138809</td>\n",
       "      <td>0.010256</td>\n",
       "      <td>0.000122</td>\n",
       "      <td>83.746003</td>\n",
       "      <td>1.418778e-07</td>\n",
       "      <td>0.000045</td>\n",
       "      <td>KDM5D USP9Y DDX3Y PRY2 RPS4Y2 PRY XKRY BPY2 VC...</td>\n",
       "    </tr>\n",
       "  </tbody>\n",
       "</table>\n",
       "</div>"
      ],
      "text/plain": [
       "   HPO_term_ID         HPO_term_name  gene_num  study_count  n_study  \\\n",
       "55  HP:0001450  Y-linked inheritance        17            4      390   \n",
       "\n",
       "    population_count  n_population  gene_ratio  background_ratio  odd_ratio  \\\n",
       "55                17        138809    0.010256          0.000122  83.746003   \n",
       "\n",
       "          pvalue      padj                                      related_genes  \n",
       "55  1.418778e-07  0.000045  KDM5D USP9Y DDX3Y PRY2 RPS4Y2 PRY XKRY BPY2 VC...  "
      ]
     },
     "execution_count": 8,
     "metadata": {},
     "output_type": "execute_result"
    }
   ],
   "source": [
    "gsea.enrichment_table.head(1)"
   ]
  },
  {
   "cell_type": "code",
   "execution_count": 9,
   "metadata": {},
   "outputs": [
    {
     "data": {
      "text/plain": [
       "315"
      ]
     },
     "execution_count": 9,
     "metadata": {},
     "output_type": "execute_result"
    }
   ],
   "source": [
    "gsea.enrichment_table.shape[0]"
   ]
  },
  {
   "cell_type": "markdown",
   "metadata": {},
   "source": [
    "Filter the enrichment results with condition: padj <= 0.05"
   ]
  },
  {
   "cell_type": "code",
   "execution_count": 10,
   "metadata": {},
   "outputs": [
    {
     "name": "stderr",
     "output_type": "stream",
     "text": [
      "hpoea.enrich         INFO    @ 03/28/19 16:53:57: filter the enrichment result with condition: padj <= 0.05\n"
     ]
    }
   ],
   "source": [
    "gsea.filter(by='padj', threshold=0.05)"
   ]
  },
  {
   "cell_type": "code",
   "execution_count": 11,
   "metadata": {},
   "outputs": [
    {
     "data": {
      "text/html": [
       "<div>\n",
       "<style scoped>\n",
       "    .dataframe tbody tr th:only-of-type {\n",
       "        vertical-align: middle;\n",
       "    }\n",
       "\n",
       "    .dataframe tbody tr th {\n",
       "        vertical-align: top;\n",
       "    }\n",
       "\n",
       "    .dataframe thead th {\n",
       "        text-align: right;\n",
       "    }\n",
       "</style>\n",
       "<table border=\"1\" class=\"dataframe\">\n",
       "  <thead>\n",
       "    <tr style=\"text-align: right;\">\n",
       "      <th></th>\n",
       "      <th>HPO_term_ID</th>\n",
       "      <th>HPO_term_name</th>\n",
       "      <th>gene_num</th>\n",
       "      <th>study_count</th>\n",
       "      <th>n_study</th>\n",
       "      <th>population_count</th>\n",
       "      <th>n_population</th>\n",
       "      <th>gene_ratio</th>\n",
       "      <th>background_ratio</th>\n",
       "      <th>odd_ratio</th>\n",
       "      <th>pvalue</th>\n",
       "      <th>padj</th>\n",
       "      <th>related_genes</th>\n",
       "    </tr>\n",
       "  </thead>\n",
       "  <tbody>\n",
       "    <tr>\n",
       "      <th>55</th>\n",
       "      <td>HP:0001450</td>\n",
       "      <td>Y-linked inheritance</td>\n",
       "      <td>17</td>\n",
       "      <td>4</td>\n",
       "      <td>390</td>\n",
       "      <td>17</td>\n",
       "      <td>138809</td>\n",
       "      <td>0.010256</td>\n",
       "      <td>0.000122</td>\n",
       "      <td>83.746003</td>\n",
       "      <td>1.418778e-07</td>\n",
       "      <td>0.000045</td>\n",
       "      <td>KDM5D USP9Y DDX3Y PRY2 RPS4Y2 PRY XKRY BPY2 VC...</td>\n",
       "    </tr>\n",
       "    <tr>\n",
       "      <th>56</th>\n",
       "      <td>HP:0000027</td>\n",
       "      <td>Azoospermia</td>\n",
       "      <td>81</td>\n",
       "      <td>4</td>\n",
       "      <td>390</td>\n",
       "      <td>81</td>\n",
       "      <td>138809</td>\n",
       "      <td>0.010256</td>\n",
       "      <td>0.000584</td>\n",
       "      <td>17.576322</td>\n",
       "      <td>8.605215e-05</td>\n",
       "      <td>0.013553</td>\n",
       "      <td>KDM5D USP9Y NR0B1 ANK1 FANCM AR DDX3Y PRY2 MEI...</td>\n",
       "    </tr>\n",
       "    <tr>\n",
       "      <th>57</th>\n",
       "      <td>HP:0003251</td>\n",
       "      <td>Male infertility</td>\n",
       "      <td>38</td>\n",
       "      <td>3</td>\n",
       "      <td>390</td>\n",
       "      <td>38</td>\n",
       "      <td>138809</td>\n",
       "      <td>0.007692</td>\n",
       "      <td>0.000274</td>\n",
       "      <td>28.098988</td>\n",
       "      <td>1.725814e-04</td>\n",
       "      <td>0.018121</td>\n",
       "      <td>USP9Y NR0B1 AMH AMHR2 DDX3Y BRAF GCM2 CFTR DMR...</td>\n",
       "    </tr>\n",
       "    <tr>\n",
       "      <th>100</th>\n",
       "      <td>HP:0000150</td>\n",
       "      <td>Gonadoblastoma</td>\n",
       "      <td>11</td>\n",
       "      <td>2</td>\n",
       "      <td>390</td>\n",
       "      <td>11</td>\n",
       "      <td>138809</td>\n",
       "      <td>0.005128</td>\n",
       "      <td>0.000079</td>\n",
       "      <td>64.712821</td>\n",
       "      <td>4.258541e-04</td>\n",
       "      <td>0.029531</td>\n",
       "      <td>CDKN1C H19-ICR DHH KCNQ1OT1 IGF2 KCNQ1 MAP3K1 ...</td>\n",
       "    </tr>\n",
       "    <tr>\n",
       "      <th>14</th>\n",
       "      <td>HP:0008734</td>\n",
       "      <td>Decreased testicular size</td>\n",
       "      <td>126</td>\n",
       "      <td>4</td>\n",
       "      <td>390</td>\n",
       "      <td>126</td>\n",
       "      <td>138809</td>\n",
       "      <td>0.010256</td>\n",
       "      <td>0.000908</td>\n",
       "      <td>11.299064</td>\n",
       "      <td>4.687391e-04</td>\n",
       "      <td>0.029531</td>\n",
       "      <td>DNAJC19 KDM5C USP9Y NR0B1 CUL4B OGT FANCM GBA2...</td>\n",
       "    </tr>\n",
       "  </tbody>\n",
       "</table>\n",
       "</div>"
      ],
      "text/plain": [
       "    HPO_term_ID              HPO_term_name  gene_num  study_count  n_study  \\\n",
       "55   HP:0001450       Y-linked inheritance        17            4      390   \n",
       "56   HP:0000027                Azoospermia        81            4      390   \n",
       "57   HP:0003251           Male infertility        38            3      390   \n",
       "100  HP:0000150             Gonadoblastoma        11            2      390   \n",
       "14   HP:0008734  Decreased testicular size       126            4      390   \n",
       "\n",
       "     population_count  n_population  gene_ratio  background_ratio  odd_ratio  \\\n",
       "55                 17        138809    0.010256          0.000122  83.746003   \n",
       "56                 81        138809    0.010256          0.000584  17.576322   \n",
       "57                 38        138809    0.007692          0.000274  28.098988   \n",
       "100                11        138809    0.005128          0.000079  64.712821   \n",
       "14                126        138809    0.010256          0.000908  11.299064   \n",
       "\n",
       "           pvalue      padj                                      related_genes  \n",
       "55   1.418778e-07  0.000045  KDM5D USP9Y DDX3Y PRY2 RPS4Y2 PRY XKRY BPY2 VC...  \n",
       "56   8.605215e-05  0.013553  KDM5D USP9Y NR0B1 ANK1 FANCM AR DDX3Y PRY2 MEI...  \n",
       "57   1.725814e-04  0.018121  USP9Y NR0B1 AMH AMHR2 DDX3Y BRAF GCM2 CFTR DMR...  \n",
       "100  4.258541e-04  0.029531  CDKN1C H19-ICR DHH KCNQ1OT1 IGF2 KCNQ1 MAP3K1 ...  \n",
       "14   4.687391e-04  0.029531  DNAJC19 KDM5C USP9Y NR0B1 CUL4B OGT FANCM GBA2...  "
      ]
     },
     "execution_count": 11,
     "metadata": {},
     "output_type": "execute_result"
    }
   ],
   "source": [
    "gsea.enrichment_table"
   ]
  },
  {
   "cell_type": "markdown",
   "metadata": {},
   "source": [
    "Using this strict condition, we got 5 significant enriched HPO Terms."
   ]
  },
  {
   "cell_type": "markdown",
   "metadata": {},
   "source": [
    "### Visualization"
   ]
  },
  {
   "cell_type": "markdown",
   "metadata": {},
   "source": [
    "Dot plot:"
   ]
  },
  {
   "cell_type": "code",
   "execution_count": 12,
   "metadata": {},
   "outputs": [
    {
     "data": {
      "text/html": [
       "\n",
       "<div class=\"bk-root\">\n",
       "    <div class=\"bk-plotdiv\" id=\"09501c47-fd24-4334-b7c4-b7dad031e5fe\"></div>\n",
       "</div>"
      ]
     },
     "metadata": {},
     "output_type": "display_data"
    },
    {
     "data": {
      "application/javascript": [
       "(function(root) {\n",
       "  function embed_document(root) {\n",
       "    \n",
       "  var docs_json = {\"46aaafec-f727-4a9d-878c-6ce4396ed2c7\":{\"roots\":{\"references\":[{\"attributes\":{\"callback\":null,\"column_names\":[\"HPO_term_ID\",\"HPO_term_name\",\"gene_num\",\"study_count\",\"n_study\",\"population_count\",\"n_population\",\"gene_ratio\",\"background_ratio\",\"odd_ratio\",\"pvalue\",\"padj\",\"related_genes\",\"index\"],\"data\":{\"HPO_term_ID\":[\"HP:0001450\",\"HP:0000027\",\"HP:0003251\",\"HP:0000150\",\"HP:0008734\"],\"HPO_term_name\":[\"Y-linked inheritance\",\"Azoospermia\",\"Male infertility\",\"Gonadoblastoma\",\"Decreased testicular size\"],\"background_ratio\":{\"__ndarray__\":\"kjesHG0NID9QYAlEDR9DP+ABSFzj8DE/VLGxuxTGFD9EstVphr5NPw==\",\"dtype\":\"float64\",\"shape\":[5]},\"gene_num\":[17,81,38,11,126],\"gene_ratio\":{\"__ndarray__\":\"FVABFVABhT8VUAEVUAGFPyD4gR/4gX8/FVABFVABdT8VUAEVUAGFPw==\",\"dtype\":\"float64\",\"shape\":[5]},\"index\":[55,56,57,100,14],\"n_population\":[138809,138809,138809,138809,138809],\"n_study\":[390,390,390,390,390],\"odd_ratio\":{\"__ndarray__\":\"hL5vg77vVEAAK1HQiZMxQJW1nERXGTxA2p7t2Z4tUECSyUPnHpkmQA==\",\"dtype\":\"float64\",\"shape\":[5]},\"padj\":{\"__ndarray__\":\"wpj6YWRuBz9h7/qXycGLPylAEjFTjpI/ji+GZ0I9nj+OL4ZnQj2ePw==\",\"dtype\":\"float64\",\"shape\":[5]},\"population_count\":[17,81,38,11,126],\"pvalue\":{\"__ndarray__\":\"FXi/PeIKgz72dke53I4WP2haw1HfniY/5PK9naXoOz+EfVPzIrg+Pw==\",\"dtype\":\"float64\",\"shape\":[5]},\"related_genes\":[\"KDM5D USP9Y DDX3Y PRY2 RPS4Y2 PRY XKRY BPY2 VCY CDY1 CDY2A DAZ1 HSFY1 RBMY1A1 SRY DAZ3 DAZ2\",\"KDM5D USP9Y NR0B1 ANK1 FANCM AR DDX3Y PRY2 MEIOB BLM BRCA1 BRCA2 RPS4Y2 PRY XKRY BPY2 VCY CDY1 SOHLH1 CFTR DMRT3 CDY2A HJV SYCP3 DAZ1 ADGRG2 BRIP1 ERCC4 FANCA FANCC FANCD2 FANCE FANCB FANCF FANCG FGFR3 MAD2L2 ZMYND15 CATSPER2 FSHB NR5A1 SLX4 WWOX MCM8 GATA4 KISS1R CEP19 HFE ANOS1 KIT MAP3K1 UBE2T HSFY1 NANOS1 OCRL STRC RAD51 RAD51C RBMY1A1 FANCL PALB2 RFWD3 FANCI STEAP3 SLC29A3 SCP2 SOX9 SPINK2 SRY STK11 VAMP7 TAF4B TEX15 TEX14 TEX11 ZFPM2 WT1 XRCC2 TDRD9 DAZ3 DAZ2\",\"USP9Y NR0B1 AMH AMHR2 DDX3Y BRAF GCM2 CFTR DMRT3 CTNS CYP19A1 DAZ1 ADGRG2 DNAI1 CATSPER1 CATSPER2 NR5A1 WWOX GATA4 LHCGR MAP3K1 MAP2K1 DNAAF5 PTPN11 STRC RBMY1A1 SOX9 SRY AURKC VAMP7 TEX11 ZFPM2 DNAI2 TSPY1 WT1 DAZ3 DAZ2 DAZ4\",\"CDKN1C H19-ICR DHH KCNQ1OT1 IGF2 KCNQ1 MAP3K1 H19 PAX6 SRY WT1\",\"DNAJC19 KDM5C USP9Y NR0B1 CUL4B OGT FANCM GBA2 DDX3Y ATRX AXL MEIOB BBS1 HESX1 FGF17 CTDP1 SOHLH1 CDKN1C CFTR CHRM3 DMRT3 HS6ST1 SYCP3 NSMF CYB5A SEMA3E TCTN3 CYP11A1 CYP11B1 CYP17A1 DAZ1 CUL7 DCC DDB2 PHGDH DKC1 SRA1 DUSP6 PQBP1 ERCC2 ERCC3 ERCC4 ERCC5 SEMA3A FBN1 MBTPS2 FGF8 FGFR1 ZMYND15 FMR1 PHF6 FSHB NR5A1 WWOX MCM8 GATA4 KISS1R GLI2 GLI3 GNRH1 GNRHR B4GAT1 HSD3B2 SYCE1 PROK2 HSPG2 ANOS1 KCNJ6 KISS1 LEP LEPR LHCGR MAP3K1 FEZF1 NANOS1 OTX2 POR POU1F1 IL17RD PROP1 SAMD9 TBC1D20 PROKR2 RBMY1A1 RSPO1 RPL10 SLC29A3 DCAF17 KLHL10 ARX SLC39A4 CHD7 CCDC141 RAB18 POLR3B FAM111A WDR11 SOX3 SOX9 SOX10 HDAC8 SRY PHF8 VAMP7 TAC3 TACR3 TAF4B MAP3K7 SATB2 TEX15 TEX11 ZFPM2 TSPY1 FLRT3 WT1 XPA XPC XRCC2 TDRD9 ALMS1 DAZ3 DAZ2 LHX4 DAZ4 SPRY4 LAS1L\"],\"study_count\":[4,4,3,2,4]}},\"id\":\"0c1f9f4d-92be-4fae-8d2a-ca7af59f0684\",\"type\":\"ColumnDataSource\"},{\"attributes\":{},\"id\":\"60993f1a-1cc0-449d-bf90-c007350671e2\",\"type\":\"PanTool\"},{\"attributes\":{\"bottom_units\":\"screen\",\"fill_alpha\":{\"value\":0.5},\"fill_color\":{\"value\":\"lightgrey\"},\"left_units\":\"screen\",\"level\":\"overlay\",\"line_alpha\":{\"value\":1.0},\"line_color\":{\"value\":\"black\"},\"line_dash\":[4,4],\"line_width\":{\"value\":2},\"plot\":null,\"render_mode\":\"css\",\"right_units\":\"screen\",\"top_units\":\"screen\"},\"id\":\"a8e0a70e-99a3-493e-86ed-f77103ecf85e\",\"type\":\"BoxAnnotation\"},{\"attributes\":{},\"id\":\"26dcd8c0-4daf-4b7e-adab-d24efe064ae0\",\"type\":\"WheelZoomTool\"},{\"attributes\":{\"overlay\":{\"id\":\"a8e0a70e-99a3-493e-86ed-f77103ecf85e\",\"type\":\"BoxAnnotation\"}},\"id\":\"d3a40075-1d80-4c2f-9783-91d57c0e8ae9\",\"type\":\"BoxZoomTool\"},{\"attributes\":{\"below\":[{\"id\":\"14671c9f-4d3a-40e9-9230-c21da619c8fd\",\"type\":\"LinearAxis\"}],\"left\":[{\"id\":\"d7cf336c-7862-428e-9d72-990640c97d8d\",\"type\":\"CategoricalAxis\"}],\"plot_height\":500,\"plot_width\":500,\"renderers\":[{\"id\":\"14671c9f-4d3a-40e9-9230-c21da619c8fd\",\"type\":\"LinearAxis\"},{\"id\":\"70902f5e-b80a-49f3-a753-f74a203bece1\",\"type\":\"Grid\"},{\"id\":\"d7cf336c-7862-428e-9d72-990640c97d8d\",\"type\":\"CategoricalAxis\"},{\"id\":\"a47eea8c-049b-4624-9363-bb465060affd\",\"type\":\"Grid\"},{\"id\":\"a8e0a70e-99a3-493e-86ed-f77103ecf85e\",\"type\":\"BoxAnnotation\"},{\"id\":\"86fa7215-595e-4962-a71a-6d94a887e306\",\"type\":\"GlyphRenderer\"}],\"title\":{\"id\":\"85195863-1203-4a49-965f-c28c72f8f8c8\",\"type\":\"Title\"},\"toolbar\":{\"id\":\"2ea82c65-cc4f-4fcd-94e8-52527241f538\",\"type\":\"Toolbar\"},\"x_range\":{\"id\":\"ae7ea9c5-ae14-4d4c-a8c1-9a0c6ab7f8d6\",\"type\":\"DataRange1d\"},\"x_scale\":{\"id\":\"37f7f870-9a06-489f-9e92-f087bb24a48f\",\"type\":\"LinearScale\"},\"y_range\":{\"id\":\"7bd6aad9-ec4d-4d41-aa93-d2589f5a397c\",\"type\":\"FactorRange\"},\"y_scale\":{\"id\":\"6ad9310b-5abb-4c1e-98ab-13c50876c625\",\"type\":\"CategoricalScale\"}},\"id\":\"82e7cc43-4544-4a3d-8a84-a1430de37a57\",\"subtype\":\"Figure\",\"type\":\"Plot\"},{\"attributes\":{},\"id\":\"57b8b4cf-e3a2-4719-bcf8-4bb032ed3ead\",\"type\":\"SaveTool\"},{\"attributes\":{},\"id\":\"f3506461-db8b-405a-a331-8de46be479e9\",\"type\":\"ResetTool\"},{\"attributes\":{\"active_drag\":\"auto\",\"active_inspect\":\"auto\",\"active_scroll\":\"auto\",\"active_tap\":\"auto\",\"tools\":[{\"id\":\"60993f1a-1cc0-449d-bf90-c007350671e2\",\"type\":\"PanTool\"},{\"id\":\"26dcd8c0-4daf-4b7e-adab-d24efe064ae0\",\"type\":\"WheelZoomTool\"},{\"id\":\"d3a40075-1d80-4c2f-9783-91d57c0e8ae9\",\"type\":\"BoxZoomTool\"},{\"id\":\"57b8b4cf-e3a2-4719-bcf8-4bb032ed3ead\",\"type\":\"SaveTool\"},{\"id\":\"f3506461-db8b-405a-a331-8de46be479e9\",\"type\":\"ResetTool\"},{\"id\":\"5534ad69-7b8f-4b8e-8476-78862c8b753a\",\"type\":\"HelpTool\"},{\"id\":\"ada6fb30-9532-4332-954a-e767db6cd7da\",\"type\":\"HoverTool\"}]},\"id\":\"2ea82c65-cc4f-4fcd-94e8-52527241f538\",\"type\":\"Toolbar\"},{\"attributes\":{},\"id\":\"5534ad69-7b8f-4b8e-8476-78862c8b753a\",\"type\":\"HelpTool\"},{\"attributes\":{\"dimension\":1,\"plot\":{\"id\":\"82e7cc43-4544-4a3d-8a84-a1430de37a57\",\"subtype\":\"Figure\",\"type\":\"Plot\"},\"ticker\":{\"id\":\"6c6f022f-4e04-4df9-a34b-b95a2a0cc971\",\"type\":\"CategoricalTicker\"}},\"id\":\"a47eea8c-049b-4624-9363-bb465060affd\",\"type\":\"Grid\"},{\"attributes\":{\"callback\":null,\"factors\":[\"Y-linked inheritance\",\"Azoospermia\",\"Male infertility\",\"Gonadoblastoma\",\"Decreased testicular size\"]},\"id\":\"7bd6aad9-ec4d-4d41-aa93-d2589f5a397c\",\"type\":\"FactorRange\"},{\"attributes\":{},\"id\":\"e89a827e-66c3-4b34-957e-1d21ceb156df\",\"type\":\"CategoricalTickFormatter\"},{\"attributes\":{},\"id\":\"37f7f870-9a06-489f-9e92-f087bb24a48f\",\"type\":\"LinearScale\"},{\"attributes\":{},\"id\":\"6c6f022f-4e04-4df9-a34b-b95a2a0cc971\",\"type\":\"CategoricalTicker\"},{\"attributes\":{\"source\":{\"id\":\"0c1f9f4d-92be-4fae-8d2a-ca7af59f0684\",\"type\":\"ColumnDataSource\"}},\"id\":\"72a8181e-225d-4fb2-83a9-e70985a7e6e6\",\"type\":\"CDSView\"},{\"attributes\":{\"plot\":{\"id\":\"82e7cc43-4544-4a3d-8a84-a1430de37a57\",\"subtype\":\"Figure\",\"type\":\"Plot\"},\"ticker\":{\"id\":\"7a108094-0012-4537-8354-a74e91884b19\",\"type\":\"BasicTicker\"}},\"id\":\"70902f5e-b80a-49f3-a753-f74a203bece1\",\"type\":\"Grid\"},{\"attributes\":{\"axis_label\":\"HPO Terms\",\"formatter\":{\"id\":\"e89a827e-66c3-4b34-957e-1d21ceb156df\",\"type\":\"CategoricalTickFormatter\"},\"plot\":{\"id\":\"82e7cc43-4544-4a3d-8a84-a1430de37a57\",\"subtype\":\"Figure\",\"type\":\"Plot\"},\"ticker\":{\"id\":\"6c6f022f-4e04-4df9-a34b-b95a2a0cc971\",\"type\":\"CategoricalTicker\"}},\"id\":\"d7cf336c-7862-428e-9d72-990640c97d8d\",\"type\":\"CategoricalAxis\"},{\"attributes\":{},\"id\":\"c13e143a-1bb3-4ece-898b-b186cdcd24fa\",\"type\":\"BasicTickFormatter\"},{\"attributes\":{},\"id\":\"7a108094-0012-4537-8354-a74e91884b19\",\"type\":\"BasicTicker\"},{\"attributes\":{\"callback\":null},\"id\":\"ae7ea9c5-ae14-4d4c-a8c1-9a0c6ab7f8d6\",\"type\":\"DataRange1d\"},{\"attributes\":{\"axis_label\":\"Pvalue\",\"formatter\":{\"id\":\"c13e143a-1bb3-4ece-898b-b186cdcd24fa\",\"type\":\"BasicTickFormatter\"},\"plot\":{\"id\":\"82e7cc43-4544-4a3d-8a84-a1430de37a57\",\"subtype\":\"Figure\",\"type\":\"Plot\"},\"ticker\":{\"id\":\"7a108094-0012-4537-8354-a74e91884b19\",\"type\":\"BasicTicker\"}},\"id\":\"14671c9f-4d3a-40e9-9230-c21da619c8fd\",\"type\":\"LinearAxis\"},{\"attributes\":{},\"id\":\"6ad9310b-5abb-4c1e-98ab-13c50876c625\",\"type\":\"CategoricalScale\"},{\"attributes\":{\"fill_alpha\":{\"value\":0.1},\"fill_color\":{\"value\":\"#1f77b4\"},\"line_alpha\":{\"value\":0.1},\"line_color\":{\"value\":\"#1f77b4\"},\"size\":{\"units\":\"screen\",\"value\":20},\"x\":{\"field\":\"pvalue\"},\"y\":{\"field\":\"HPO_term_name\"}},\"id\":\"c0eaca9e-bdcd-438e-a24b-ee655e19729f\",\"type\":\"Circle\"},{\"attributes\":{\"callback\":null,\"tooltips\":[[\"HPO_term_ID\",\"@HPO_term_ID\"],[\"gene_num\",\"@gene_num\"],[\"gene_ratio\",\"@gene_ratio{%0.2f}\"],[\"background_ratio\",\"@background_ratio{%0.2f}\"],[\"odd_ratio\",\"@odd_ratio{0.00}\"],[\"pvalue\",\"@pvalue\"],[\"padj\",\"@padj\"]]},\"id\":\"ada6fb30-9532-4332-954a-e767db6cd7da\",\"type\":\"HoverTool\"},{\"attributes\":{\"data_source\":{\"id\":\"0c1f9f4d-92be-4fae-8d2a-ca7af59f0684\",\"type\":\"ColumnDataSource\"},\"glyph\":{\"id\":\"c2fe07ba-6439-454c-9c0e-70e1a12ca294\",\"type\":\"Circle\"},\"hover_glyph\":null,\"muted_glyph\":null,\"nonselection_glyph\":{\"id\":\"c0eaca9e-bdcd-438e-a24b-ee655e19729f\",\"type\":\"Circle\"},\"selection_glyph\":null,\"view\":{\"id\":\"72a8181e-225d-4fb2-83a9-e70985a7e6e6\",\"type\":\"CDSView\"}},\"id\":\"86fa7215-595e-4962-a71a-6d94a887e306\",\"type\":\"GlyphRenderer\"},{\"attributes\":{\"fill_alpha\":{\"value\":0.6},\"fill_color\":{\"value\":\"navy\"},\"line_alpha\":{\"value\":0.6},\"line_color\":{\"value\":\"navy\"},\"size\":{\"units\":\"screen\",\"value\":20},\"x\":{\"field\":\"pvalue\"},\"y\":{\"field\":\"HPO_term_name\"}},\"id\":\"c2fe07ba-6439-454c-9c0e-70e1a12ca294\",\"type\":\"Circle\"},{\"attributes\":{\"plot\":null,\"text\":\"\"},\"id\":\"85195863-1203-4a49-965f-c28c72f8f8c8\",\"type\":\"Title\"}],\"root_ids\":[\"82e7cc43-4544-4a3d-8a84-a1430de37a57\"]},\"title\":\"Bokeh Application\",\"version\":\"0.12.14\"}};\n",
       "  var render_items = [{\"docid\":\"46aaafec-f727-4a9d-878c-6ce4396ed2c7\",\"elementid\":\"09501c47-fd24-4334-b7c4-b7dad031e5fe\",\"modelid\":\"82e7cc43-4544-4a3d-8a84-a1430de37a57\"}];\n",
       "  root.Bokeh.embed.embed_items_notebook(docs_json, render_items);\n",
       "\n",
       "  }\n",
       "  if (root.Bokeh !== undefined) {\n",
       "    embed_document(root);\n",
       "  } else {\n",
       "    var attempts = 0;\n",
       "    var timer = setInterval(function(root) {\n",
       "      if (root.Bokeh !== undefined) {\n",
       "        embed_document(root);\n",
       "        clearInterval(timer);\n",
       "      }\n",
       "      attempts++;\n",
       "      if (attempts > 100) {\n",
       "        console.log(\"Bokeh: ERROR: Unable to run BokehJS code because BokehJS library is missing\")\n",
       "        clearInterval(timer);\n",
       "      }\n",
       "    }, 10, root)\n",
       "  }\n",
       "})(window);"
      ],
      "application/vnd.bokehjs_exec.v0+json": ""
     },
     "metadata": {
      "application/vnd.bokehjs_exec.v0+json": {
       "id": "82e7cc43-4544-4a3d-8a84-a1430de37a57"
      }
     },
     "output_type": "display_data"
    }
   ],
   "source": [
    "p = dot_plot(gsea.enrichment_table, size=20, x='pvalue')\n",
    "show(p)"
   ]
  },
  {
   "cell_type": "markdown",
   "metadata": {},
   "source": [
    "Ontology lineage plot:"
   ]
  },
  {
   "cell_type": "code",
   "execution_count": 13,
   "metadata": {},
   "outputs": [
    {
     "data": {
      "text/plain": [
       "<matplotlib.axes._subplots.AxesSubplot at 0x7f889229fe10>"
      ]
     },
     "execution_count": 13,
     "metadata": {},
     "output_type": "execute_result"
    },
    {
     "data": {
      "image/png": "[encoded data removed]",
      "text/plain": [
       "<Figure size 1440x720 with 1 Axes>"
      ]
     },
     "metadata": {},
     "output_type": "display_data"
    }
   ],
   "source": [
    "terms = list(gsea.enrichment_table.HPO_term_ID)\n",
    "lin = LineagePlot()\n",
    "fig, ax = plt.subplots(figsize=(20, 10))\n",
    "lin.plot(terms, ax=ax)"
   ]
  }
 ],
 "metadata": {
  "kernelspec": {
   "display_name": "Python 3",
   "language": "python",
   "name": "python3"
  },
  "language_info": {
   "codemirror_mode": {
    "name": "ipython",
    "version": 3
   },
   "file_extension": ".py",
   "mimetype": "text/x-python",
   "name": "python",
   "nbconvert_exporter": "python",
   "pygments_lexer": "ipython3",
   "version": "3.6.3"
  }
 },
 "nbformat": 4,
 "nbformat_minor": 2
}
